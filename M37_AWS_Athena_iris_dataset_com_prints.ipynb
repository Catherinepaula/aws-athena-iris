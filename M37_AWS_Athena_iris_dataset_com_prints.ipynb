{
 "cells": [
  {
   "cell_type": "markdown",
   "id": "a48e7d2b",
   "metadata": {},
   "source": [
    "# Projeto M37 - AWS S3 + Athena com o dataset Iris"
   ]
  },
  {
   "cell_type": "markdown",
   "id": "6793b654",
   "metadata": {},
   "source": [
    "## ✅ Etapas realizadas\n",
    "1. Geração do arquivo `iris.csv` com o dataset Iris (sklearn).\n",
    "2. Upload do CSV para o bucket S3: `iris-catherine`.\n",
    "3. Criação de bucket de resultados do Athena: `iriscatherineresultados`.\n",
    "4. Configuração do Athena para usar o bucket de resultados.\n",
    "5. Criação da tabela externa no Athena usando `OpenCSVSerde` e `skip.header.line.count = 1`.\n",
    "6. Consulta de exemplo com `SELECT *`.\n",
    "7. Consulta de média por classe com `GROUP BY`."
   ]
  },
  {
   "cell_type": "markdown",
   "id": "a38d6b9e",
   "metadata": {},
   "source": [
    "## 📊 Geração do arquivo iris.csv"
   ]
  },
  {
   "cell_type": "code",
   "execution_count": null,
   "id": "0530873f",
   "metadata": {},
   "outputs": [],
   "source": [
    "import pandas as pd\n",
    "from sklearn.datasets import load_iris\n",
    "\n",
    "# Carregando dados do sklearn\n",
    "iris = load_iris()\n",
    "df = pd.DataFrame(data=iris.data, columns=iris.feature_names)\n",
    "df[\"class\"] = pd.Categorical.from_codes(iris.target, iris.target_names)\n",
    "\n",
    "# Renomeando colunas\n",
    "df.columns = ['sepal_length', 'sepal_width', 'petal_length', 'petal_width', 'class']\n",
    "\n",
    "# Salvando CSV\n",
    "df.to_csv(\"iris.csv\", index=False)\n",
    "print(\"Arquivo iris.csv gerado com sucesso!\")"
   ]
  },
  {
   "cell_type": "markdown",
   "id": "db550442",
   "metadata": {},
   "source": [
    "## 🔗 Upload para o S3\n",
    "- Bucket criado: `iris-catherine`\n",
    "- Caminho do arquivo: `s3://iris-catherine/iris.csv`"
   ]
  },
  {
   "cell_type": "markdown",
   "id": "f268ac10",
   "metadata": {},
   "source": [
    "## 🛠️ Comando SQL executado no Athena"
   ]
  },
  {
   "cell_type": "code",
   "execution_count": null,
   "id": "b95c0ac8",
   "metadata": {},
   "outputs": [],
   "source": [
    "CREATE EXTERNAL TABLE iris_data_corrigida (\n",
    "  sepal_length DOUBLE,\n",
    "  sepal_width DOUBLE,\n",
    "  petal_length DOUBLE,\n",
    "  petal_width DOUBLE,\n",
    "  class STRING\n",
    ")\n",
    "ROW FORMAT SERDE 'org.apache.hadoop.hive.serde2.OpenCSVSerde'\n",
    "WITH SERDEPROPERTIES (\n",
    "  \"separatorChar\" = \",\",\n",
    "  \"quoteChar\" = \"\\\"\"\n",
    ")\n",
    "LOCATION 's3://iris-catherine/'\n",
    "TBLPROPERTIES (\n",
    "  'has_encrypted_data'='false',\n",
    "  'skip.header.line.count'='1'\n",
    ");"
   ]
  },
  {
   "cell_type": "markdown",
   "id": "099d55eb",
   "metadata": {},
   "source": [
    "## ✅ Consulta de teste"
   ]
  },
  {
   "cell_type": "code",
   "execution_count": null,
   "id": "1f4e360c",
   "metadata": {},
   "outputs": [],
   "source": [
    "SELECT * FROM iris_data_corrigida LIMIT 5;"
   ]
  },
  {
   "cell_type": "markdown",
   "id": "8741baf9",
   "metadata": {},
   "source": [
    "### 📸 Resultado da consulta SELECT *"
   ]
  },
  {
   "cell_type": "markdown",
   "id": "89efbb6a",
   "metadata": {},
   "source": [
    "<img src=\"/mnt/data/8ffc9c6f-15ce-4d17-bdb2-7dd6785d0682.png\" alt=\"Consulta SELECT *\" width=\"800\"/>"
   ]
  },
  {
   "cell_type": "markdown",
   "id": "4464e92f",
   "metadata": {},
   "source": [
    "## 📈 Consulta analítica"
   ]
  },
  {
   "cell_type": "code",
   "execution_count": null,
   "id": "46c50802",
   "metadata": {},
   "outputs": [],
   "source": [
    "SELECT class, AVG(sepal_length) AS media_sepal\n",
    "FROM iris_data_corrigida\n",
    "GROUP BY class;"
   ]
  },
  {
   "cell_type": "markdown",
   "id": "1846bccf",
   "metadata": {},
   "source": [
    "### 📸 Resultado da média do sepal_length por classe"
   ]
  },
  {
   "cell_type": "markdown",
   "id": "5804b51c",
   "metadata": {},
   "source": [
    "<img src=\"/mnt/data/d88124d9-1780-4ed3-906b-508e13f88609.png\" alt=\"Consulta média\" width=\"800\"/>"
   ]
  },
  {
   "cell_type": "markdown",
   "id": "50052e30",
   "metadata": {},
   "source": [
    "## 🧾 Resultado\n",
    "As consultas foram executadas com sucesso, conforme os prints enviados. O Athena retornou as médias por classe conforme esperado.\n",
    "\n",
    "> Atividade finalizada com sucesso 🎯"
   ]
  }
 ],
 "metadata": {
  "language": "python"
 },
 "nbformat": 4,
 "nbformat_minor": 5
}